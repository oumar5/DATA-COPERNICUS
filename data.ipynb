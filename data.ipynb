{
 "cells": [
  {
   "cell_type": "code",
   "execution_count": 6,
   "metadata": {},
   "outputs": [
    {
     "name": "stderr",
     "output_type": "stream",
     "text": [
      "Extraction des pixels: 100%|██████████| 5490/5490 [25:10<00:00,  3.64it/s]\n"
     ]
    },
    {
     "name": "stdout",
     "output_type": "stream",
     "text": [
      "Les données ont été exportées avec succès dans le fichier : output_pixels.csv\n"
     ]
    }
   ],
   "source": [
    "import rasterio\n",
    "import numpy as np\n",
    "import pandas as pd\n",
    "from tqdm import tqdm  # Importer tqdm pour la barre de progression\n",
    "\n",
    "# Chemin du fichier .jp2 (par exemple, la bande rouge)\n",
    "file_path = \"IMG_DATA/R20m/T31TFL_20250106T104329_B01_20m.jp2\"\n",
    "\n",
    "# Ouvrir le fichier raster\n",
    "with rasterio.open(file_path) as src:\n",
    "    data = src.read(1)  # Lire la première couche\n",
    "    width, height = src.width, src.height  # Dimensions de l'image\n",
    "    transform = src.transform  # Transformation géospatiale\n",
    "\n",
    "# Créer une liste pour stocker les informations (coordonnées + valeurs des pixels)\n",
    "rows = []\n",
    "\n",
    "# Boucle sur chaque pixel avec tqdm pour afficher la progression\n",
    "for row in tqdm(range(height), desc=\"Extraction des pixels\"):\n",
    "    for col in range(width):\n",
    "        x, y = rasterio.transform.xy(transform, row, col, offset='center')  # Coordonnées géographiques\n",
    "        value = data[row, col]  # Valeur du pixel\n",
    "        rows.append([x, y, value])\n",
    "\n",
    "# Convertir la liste en DataFrame pandas\n",
    "df = pd.DataFrame(rows, columns=[\"Longitude\", \"Latitude\", \"Pixel_Value\"])\n",
    "\n",
    "# Enregistrer dans un fichier CSV\n",
    "csv_path = \"output_pixels.csv\"\n",
    "df.to_csv(csv_path, index=False)\n",
    "\n",
    "print(f\"Les données ont été exportées avec succès dans le fichier : {csv_path}\")\n"
   ]
  },
  {
   "cell_type": "code",
   "execution_count": null,
   "metadata": {},
   "outputs": [],
   "source": []
  },
  {
   "cell_type": "code",
   "execution_count": null,
   "metadata": {},
   "outputs": [],
   "source": []
  },
  {
   "cell_type": "code",
   "execution_count": null,
   "metadata": {},
   "outputs": [],
   "source": []
  }
 ],
 "metadata": {
  "kernelspec": {
   "display_name": "base",
   "language": "python",
   "name": "python3"
  },
  "language_info": {
   "codemirror_mode": {
    "name": "ipython",
    "version": 3
   },
   "file_extension": ".py",
   "mimetype": "text/x-python",
   "name": "python",
   "nbconvert_exporter": "python",
   "pygments_lexer": "ipython3",
   "version": "3.11.7"
  }
 },
 "nbformat": 4,
 "nbformat_minor": 2
}
